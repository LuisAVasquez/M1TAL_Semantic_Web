{
 "cells": [
  {
   "cell_type": "code",
   "execution_count": 70,
   "metadata": {},
   "outputs": [],
   "source": [
    "labels_csv = \"/home/luisv/LCT.Lorraine/Semester2/TheSemanticWeb/Project/Code/03_graph/all_labels.csv\"\n"
   ]
  },
  {
   "cell_type": "code",
   "execution_count": 71,
   "metadata": {},
   "outputs": [
    {
     "name": "stdout",
     "output_type": "stream",
     "text": [
      "wd:Q100047 type:platform \"Commodore Amiga\"\n"
     ]
    }
   ],
   "source": [
    "with open(labels_csv, 'r') as file:\n",
    "    lines = [\n",
    "        line.strip().rstrip(\"@en .\") \n",
    "        for line in file.readlines() \n",
    "        if len(line) > 1 # ignore empty lines\n",
    "        ]\n",
    "print(lines[0])"
   ]
  },
  {
   "cell_type": "code",
   "execution_count": 72,
   "metadata": {},
   "outputs": [
    {
     "data": {
      "text/plain": [
       "['wd:Q100047', 'type:platform', '\"Commodore Amiga\"']"
      ]
     },
     "execution_count": 72,
     "metadata": {},
     "output_type": "execute_result"
    }
   ],
   "source": [
    "lines[0].split(\" \", 2)"
   ]
  },
  {
   "cell_type": "code",
   "execution_count": 73,
   "metadata": {},
   "outputs": [
    {
     "data": {
      "text/plain": [
       "['wd:Q100047', 'type:platform', '\"Commodore Amiga\"']"
      ]
     },
     "execution_count": 73,
     "metadata": {},
     "output_type": "execute_result"
    }
   ],
   "source": [
    "triples = [line.split(\" \", 2) for line in lines]\n",
    "\n",
    "triples[0]"
   ]
  },
  {
   "cell_type": "code",
   "execution_count": 74,
   "metadata": {},
   "outputs": [],
   "source": [
    "types = set([triple[1] for triple in triples])"
   ]
  },
  {
   "cell_type": "code",
   "execution_count": 75,
   "metadata": {},
   "outputs": [
    {
     "data": {
      "text/plain": [
       "{'type:distributor',\n",
       " 'type:game',\n",
       " 'type:gamemode',\n",
       " 'type:genre',\n",
       " 'type:input_method',\n",
       " 'type:pegi',\n",
       " 'type:platform'}"
      ]
     },
     "execution_count": 75,
     "metadata": {},
     "output_type": "execute_result"
    }
   ],
   "source": [
    "types"
   ]
  },
  {
   "cell_type": "code",
   "execution_count": 76,
   "metadata": {},
   "outputs": [
    {
     "data": {
      "text/plain": [
       "{'wd:Q14947863': '\"parlour game\"',\n",
       " 'wd:Q1630770': '\"hotseat\"',\n",
       " 'wd:Q1758804': '\"co-op mode\"',\n",
       " 'wd:Q208850': '\"single-player video game\"',\n",
       " 'wd:Q3297989': '\"multiplayer online game\"',\n",
       " 'wd:Q5252671': '\"two-player video game\"',\n",
       " 'wd:Q6895044': '\"multiplayer video game\"',\n",
       " 'wd:Q719798': '\"player versus player\"'}"
      ]
     },
     "execution_count": 76,
     "metadata": {},
     "output_type": "execute_result"
    }
   ],
   "source": [
    "{id:name for [id, type, name] in triples if type == 'type:gamemode'}"
   ]
  },
  {
   "cell_type": "code",
   "execution_count": 77,
   "metadata": {},
   "outputs": [],
   "source": [
    "dictionaries = {my_type: {\n",
    "        id:name \n",
    "        for [id, type, name] in triples \n",
    "        if type ==  my_type\n",
    "    }\n",
    "    for my_type in types\n",
    "    }"
   ]
  },
  {
   "cell_type": "code",
   "execution_count": 80,
   "metadata": {},
   "outputs": [],
   "source": [
    "import json\n",
    "import os\n",
    "try: \n",
    "    os.mkdir(\"dictionaries\")\n",
    "except:\n",
    "    pass"
   ]
  },
  {
   "cell_type": "code",
   "execution_count": 81,
   "metadata": {},
   "outputs": [],
   "source": [
    "for type in dictionaries.keys():\n",
    "    with open(os.path.join(\"dictionaries\", type.split(\":\")[1] + \".json\"), 'w') as file: \n",
    "        json.dump(dictionaries[type], file, indent = 2)"
   ]
  },
  {
   "cell_type": "markdown",
   "metadata": {},
   "source": [
    "# Parse video game labels"
   ]
  },
  {
   "cell_type": "code",
   "execution_count": null,
   "metadata": {},
   "outputs": [],
   "source": []
  }
 ],
 "metadata": {
  "interpreter": {
   "hash": "997ed75ad1253b081b4bd25360b6bcbfad76026706cda5a0c094d1371ade530f"
  },
  "kernelspec": {
   "display_name": "Python 3.8.10 ('dsvenv')",
   "language": "python",
   "name": "python3"
  },
  "language_info": {
   "codemirror_mode": {
    "name": "ipython",
    "version": 3
   },
   "file_extension": ".py",
   "mimetype": "text/x-python",
   "name": "python",
   "nbconvert_exporter": "python",
   "pygments_lexer": "ipython3",
   "version": "3.8.10"
  },
  "orig_nbformat": 4
 },
 "nbformat": 4,
 "nbformat_minor": 2
}
