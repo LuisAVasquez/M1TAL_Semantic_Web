{
 "cells": [
  {
   "cell_type": "code",
   "execution_count": 1,
   "metadata": {},
   "outputs": [],
   "source": [
    "import json\n",
    "import os\n",
    "import SPARQLWrapper\n"
   ]
  },
  {
   "cell_type": "code",
   "execution_count": 3,
   "metadata": {},
   "outputs": [],
   "source": [
    "gameLabels_path = \"/home/luisv/LCT.Lorraine/Semester2/TheSemanticWeb/Project/Code/03_parsing_labels/dictionaries/game.json\"\n",
    "with open(gameLabels_path, 'r') as file:\n",
    "    gameLabels = json.load(file)\n",
    "\n",
    "genreLabels_path = \"/home/luisv/LCT.Lorraine/Semester2/TheSemanticWeb/Project/Code/03_parsing_labels/dictionaries/genre.json\"\n",
    "\n",
    "with open(genreLabels_path, 'r') as file:\n",
    "    genreLabels = json.load(file)\n",
    "\n",
    "\n",
    "platformLabels_path = \"/home/luisv/LCT.Lorraine/Semester2/TheSemanticWeb/Project/Code/03_parsing_labels/dictionaries/platform.json\"\n",
    "\n",
    "with open(platformLabels_path, 'r') as file:\n",
    "    platformLabels = json.load(file)"
   ]
  },
  {
   "cell_type": "code",
   "execution_count": 5,
   "metadata": {},
   "outputs": [],
   "source": [
    "import random"
   ]
  },
  {
   "cell_type": "code",
   "execution_count": 8,
   "metadata": {},
   "outputs": [
    {
     "data": {
      "text/plain": [
       "329"
      ]
     },
     "execution_count": 8,
     "metadata": {},
     "output_type": "execute_result"
    }
   ],
   "source": [
    "len(gameLabels)"
   ]
  },
  {
   "cell_type": "code",
   "execution_count": 30,
   "metadata": {},
   "outputs": [
    {
     "name": "stdout",
     "output_type": "stream",
     "text": [
      "wd:Q528128 \"Killzone 3\"\n"
     ]
    }
   ],
   "source": [
    "gameID_idx = random.choice(range(len(gameLabels)))\n",
    "gameID = list(gameLabels.keys())[gameID_idx]\n",
    "gameLabel = gameLabels[gameID]\n",
    "\n",
    "print(gameID, gameLabel)"
   ]
  },
  {
   "cell_type": "code",
   "execution_count": 11,
   "metadata": {},
   "outputs": [
    {
     "data": {
      "text/plain": [
       "'wd:Q54850'"
      ]
     },
     "execution_count": 11,
     "metadata": {},
     "output_type": "execute_result"
    }
   ],
   "source": [
    "gameID"
   ]
  },
  {
   "cell_type": "code",
   "execution_count": null,
   "metadata": {},
   "outputs": [],
   "source": [
    "query = \"\"\"\n",
    "PREFIX wd: <http://www.wikidata.org/entity/> \n",
    "\n",
    "SELECT ?label \n",
    "WHERE {\n",
    "\n",
    "wd:Q54850 rdfs:label ?label\n",
    "}\n",
    "\"\"\"\n",
    "\n"
   ]
  },
  {
   "cell_type": "code",
   "execution_count": 23,
   "metadata": {},
   "outputs": [
    {
     "data": {
      "text/plain": [
       "'Star Wars: The Clone Wars � Republic Heroes'"
      ]
     },
     "execution_count": 23,
     "metadata": {},
     "output_type": "execute_result"
    }
   ],
   "source": [
    "from SPARQLWrapper import SPARQLWrapper, JSON, XML, TURTLE, RDF, CSV\n",
    "import sys\n",
    "\n",
    "\n",
    "#endpoint_url = \"http://10.11.120.183:9999/blazegraph/#query\"\n",
    "endpoint_url = \"http://10.11.120.183:9999/blazegraph/namespace/swproj/sparql\"\n",
    "\n",
    "\n",
    "query = \"\"\"PREFIX wd: <http://www.wikidata.org/entity/> \n",
    "\n",
    "SELECT ?label \n",
    "WHERE {\n",
    "\n",
    "wd:Q54850 rdfs:label ?label\n",
    "}\n",
    "\"\"\"\n",
    "\n",
    "\n",
    "def get_results(endpoint_url, query):\n",
    "    user_agent = \"WDQS-example Python/%s.%s\" % (sys.version_info[0], sys.version_info[1])\n",
    "    # TODO adjust user agent; see https://w.wiki/CX6\n",
    "    sparql = SPARQLWrapper(endpoint_url, agent=user_agent)\n",
    "    sparql.setQuery(query)\n",
    "    sparql.setReturnFormat(JSON)\n",
    "    #sparql.setReturnFormat(XML)\n",
    "    return sparql.query().convert()\n",
    "    #sparql.query().convert()\n",
    "\n",
    "\n",
    "results = get_results(endpoint_url, query)\n",
    "results['results']['bindings'][0]['label']['value']"
   ]
  },
  {
   "cell_type": "code",
   "execution_count": 24,
   "metadata": {},
   "outputs": [
    {
     "data": {
      "text/plain": [
       "'Star Wars: The Clone Wars � Republic Heroes'"
      ]
     },
     "execution_count": 24,
     "metadata": {},
     "output_type": "execute_result"
    }
   ],
   "source": [
    "query = \"PREFIX wd: <http://www.wikidata.org/entity/> SELECT ?label WHERE {\" + gameID  + \" rdfs:label ?label}\"\n",
    "results = get_results(endpoint_url, query)\n",
    "results['results']['bindings'][0]['label']['value']"
   ]
  },
  {
   "cell_type": "code",
   "execution_count": 27,
   "metadata": {},
   "outputs": [
    {
     "data": {
      "text/plain": [
       "'Star Wars: The Clone Wars � Republic Heroes'"
      ]
     },
     "execution_count": 27,
     "metadata": {},
     "output_type": "execute_result"
    }
   ],
   "source": [
    "query = \"\"\"PREFIX wd: <http://www.wikidata.org/entity/> \n",
    "\n",
    "SELECT ?label \n",
    "WHERE {\n",
    "\n",
    "%s rdfs:label ?label\n",
    "}\n",
    "\"\"\" % (gameID)\n",
    "results = get_results(endpoint_url, query)\n",
    "results['results']['bindings'][0]['label']['value']"
   ]
  },
  {
   "cell_type": "code",
   "execution_count": 31,
   "metadata": {},
   "outputs": [
    {
     "name": "stdout",
     "output_type": "stream",
     "text": [
      "wd:Q16681627 \"alternate history video game\"\n"
     ]
    }
   ],
   "source": [
    "genreID_idx = random.choice(range(len(genreLabels)))\n",
    "genreID = list(genreLabels.keys())[genreID_idx]\n",
    "genreLabel = genreLabels[genreID]\n",
    "\n",
    "print(genreID, genreLabel)"
   ]
  },
  {
   "cell_type": "code",
   "execution_count": 33,
   "metadata": {},
   "outputs": [
    {
     "data": {
      "text/plain": [
       "[{'label': {'type': 'literal', 'value': 'alternate_history_video_game'}}]"
      ]
     },
     "execution_count": 33,
     "metadata": {},
     "output_type": "execute_result"
    }
   ],
   "source": [
    "query = \"\"\"PREFIX wd: <http://www.wikidata.org/entity/> \n",
    "\n",
    "SELECT ?label \n",
    "WHERE {\n",
    "\n",
    "%s rdfs:label ?label\n",
    "}\n",
    "\"\"\" % (genreID)\n",
    "results = get_results(endpoint_url, query)\n",
    "results['results']['bindings']"
   ]
  },
  {
   "cell_type": "code",
   "execution_count": 34,
   "metadata": {},
   "outputs": [
    {
     "name": "stdout",
     "output_type": "stream",
     "text": [
      "wd:Q1349717 \"video game arcade cabinet\"\n"
     ]
    }
   ],
   "source": [
    "platformID_idx = random.choice(range(len(platformLabels)))\n",
    "platformID = list(platformLabels.keys())[platformID_idx]\n",
    "platformLabel = platformLabels[platformID]\n",
    "\n",
    "print(platformID, platformLabel)"
   ]
  },
  {
   "cell_type": "code",
   "execution_count": 52,
   "metadata": {},
   "outputs": [],
   "source": [
    "userAge = 14"
   ]
  },
  {
   "cell_type": "code",
   "execution_count": 56,
   "metadata": {},
   "outputs": [
    {
     "name": "stdout",
     "output_type": "stream",
     "text": [
      "PREFIX wd: <http://www.wikidata.org/entity/> \n",
      "prefix : <http://www.example.org/semanticwebproject#>\n",
      "\n",
      "SELECT ?recGameID \n",
      "WHERE {\n",
      "\n",
      "wd:Q528128 :hasGenre ?genreID.\n",
      "wd:Q528128 :onPlatform ?platform.\n",
      "?recGameID :onPlatform ?platform.\n",
      "?recGameID :hasGenre ?genreID.\n",
      "?recGameID :hasPegi ?pegi\n",
      "\n",
      "FILTER (wd:Q528128 != ?recGameID)\n",
      "FILTER (14 > ?pegi)\n",
      "}\n",
      "\n",
      "4\n"
     ]
    },
    {
     "data": {
      "text/plain": [
       "['wd:Q18940', 'wd:Q211096', 'wd:Q274897', 'wd:Q279446']"
      ]
     },
     "execution_count": 56,
     "metadata": {},
     "output_type": "execute_result"
    }
   ],
   "source": [
    "query = \"\"\"PREFIX wd: <http://www.wikidata.org/entity/> \n",
    "prefix : <http://www.example.org/semanticwebproject#>\n",
    "\n",
    "SELECT ?recGameID \n",
    "WHERE {\n",
    "\n",
    "%s :hasGenre ?genreID.\n",
    "%s :onPlatform ?platform.\n",
    "?recGameID :onPlatform ?platform.\n",
    "?recGameID :hasGenre ?genreID.\n",
    "?recGameID :hasPegi ?pegi\n",
    "\n",
    "FILTER (%s != ?recGameID)\n",
    "FILTER (%d > ?pegi)\n",
    "}\n",
    "\"\"\" % (gameID, gameID, gameID, userAge)\n",
    "print(query)\n",
    "results = get_results(endpoint_url, query)\n",
    "results = results['results']['bindings']\n",
    "results = [elem['recGameID']['value'] for elem in results]\n",
    "results = [\"wd:\" + elem.rsplit(\"/\", 1)[-1] for elem in results]\n",
    "print(len(results))\n",
    "results "
   ]
  },
  {
   "cell_type": "code",
   "execution_count": null,
   "metadata": {},
   "outputs": [],
   "source": []
  }
 ],
 "metadata": {
  "interpreter": {
   "hash": "997ed75ad1253b081b4bd25360b6bcbfad76026706cda5a0c094d1371ade530f"
  },
  "kernelspec": {
   "display_name": "Python 3.8.10 ('dsvenv')",
   "language": "python",
   "name": "python3"
  },
  "language_info": {
   "codemirror_mode": {
    "name": "ipython",
    "version": 3
   },
   "file_extension": ".py",
   "mimetype": "text/x-python",
   "name": "python",
   "nbconvert_exporter": "python",
   "pygments_lexer": "ipython3",
   "version": "3.8.10"
  },
  "orig_nbformat": 4
 },
 "nbformat": 4,
 "nbformat_minor": 2
}
