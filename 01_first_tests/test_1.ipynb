{
 "cells": [
  {
   "cell_type": "code",
   "execution_count": 1,
   "metadata": {},
   "outputs": [
    {
     "name": "stdout",
     "output_type": "stream",
     "text": [
      "Requirement already satisfied: SPARQLWrapper in /home/luisv/LCT.Lorraine/Semester2/DataScience/dsvenv/lib/python3.8/site-packages (2.0.0)\n",
      "Requirement already satisfied: rdflib>=6.1.1 in /home/luisv/LCT.Lorraine/Semester2/DataScience/dsvenv/lib/python3.8/site-packages (from SPARQLWrapper) (6.1.1)\n",
      "Requirement already satisfied: setuptools in /home/luisv/LCT.Lorraine/Semester2/DataScience/dsvenv/lib/python3.8/site-packages (from rdflib>=6.1.1->SPARQLWrapper) (44.0.0)\n",
      "Requirement already satisfied: isodate in /home/luisv/LCT.Lorraine/Semester2/DataScience/dsvenv/lib/python3.8/site-packages (from rdflib>=6.1.1->SPARQLWrapper) (0.6.1)\n",
      "Requirement already satisfied: pyparsing in /home/luisv/LCT.Lorraine/Semester2/DataScience/dsvenv/lib/python3.8/site-packages (from rdflib>=6.1.1->SPARQLWrapper) (3.0.7)\n",
      "Requirement already satisfied: six in /home/luisv/LCT.Lorraine/Semester2/DataScience/dsvenv/lib/python3.8/site-packages (from isodate->rdflib>=6.1.1->SPARQLWrapper) (1.16.0)\n"
     ]
    }
   ],
   "source": [
    "!pip install SPARQLWrapper"
   ]
  },
  {
   "cell_type": "code",
   "execution_count": 2,
   "metadata": {},
   "outputs": [],
   "source": [
    "from SPARQLWrapper import SPARQLWrapper, JSON"
   ]
  },
  {
   "cell_type": "code",
   "execution_count": 3,
   "metadata": {},
   "outputs": [],
   "source": [
    "sparql = SPARQLWrapper(\"http://dbpedia.org/sparql/\")"
   ]
  },
  {
   "cell_type": "code",
   "execution_count": 4,
   "metadata": {},
   "outputs": [
    {
     "name": "stdout",
     "output_type": "stream",
     "text": [
      "Asturias\n",
      "أشتورية\n",
      "Astúries\n",
      "Asturie\n",
      "Asturien\n",
      "Αστούριες\n",
      "Asturio\n",
      "Asturias\n",
      "Asturiasko Printzerria\n",
      "Asturias\n",
      "Asturias\n",
      "Asturies\n",
      "Asturie\n",
      "アストゥリアス州\n",
      "아스투리아스주\n",
      "Asturië (regio)\n",
      "Asturia\n",
      "Астурия\n",
      "Astúrias\n",
      "Asturien\n",
      "Астурія\n",
      "阿斯图里亚斯\n"
     ]
    }
   ],
   "source": [
    "sparql.setQuery(\"\"\"\n",
    "PREFIX rdfs: <http://www.w3.org/2000/01/rdf-schema#>\n",
    "SELECT ?label\n",
    "WHERE {\n",
    "<http://dbpedia.org/resource/Asturias> rdfs:label ?label }\n",
    "\"\"\")\n",
    "sparql.setReturnFormat(JSON)\n",
    "results = sparql.query().convert()\n",
    "\n",
    "for result in results[\"results\"][\"bindings\"]:\n",
    "    print(result[\"label\"][\"value\"])"
   ]
  },
  {
   "cell_type": "code",
   "execution_count": 5,
   "metadata": {},
   "outputs": [
    {
     "name": "stdout",
     "output_type": "stream",
     "text": [
      "b'<!DOCTYPE html><html lang=\"en\" dir=\"ltr\"><head><meta charset=\"utf-8\"><meta http-equiv=\"X-UA-Compatible\" content=\"IE=edge\"><meta name=\"viewport\" content=\"width=device-width,initial-scale=1,user-scalable=yes\"><link rel=\"stylesheet\" href=\"css/style.min.bb40e3dc8793e3da5684.css\"><link id=\"favicon\" rel=\"shortcut icon\"><script src=\"js/shim.min.ce7dc42b2f743fc3020c.js\"></script><style id=\"MJX-CHTML-styles\">/* placeholder for MathJax */</style></head><body><div class=\"wikibase-queryservice container-fluid\"><div class=\"row\"><nav class=\"navbar navbar-default\"><div class=\"navbar-header\"><button type=\"button\" class=\"navbar-toggle collapsed\" data-toggle=\"collapse\" data-target=\"#header-navbar-collapse\" aria-expanded=\"false\"><span class=\"sr-only\">Toggle navigation</span><span class=\"icon-bar\"></span><span class=\"icon-bar\"></span><span class=\"icon-bar\"></span></button><div class=\"navbar-brand\"><a href=\"./\"><img src=\"data:image/gif;base64,R0lGODlhAQABAAAAACwAAAAAAQABAAA=\"><span></span></a></div></div><div class=\"collapse navbar-collapse in\" id=\"header-navbar-collapse\"><ul class=\"nav navbar-nav navbar-left\" id=\"left-navbar\"><li><button type=\"button\" class=\"btn navbar-btn btn-default\" id=\"open-example\" data-toggle=\"modal\" data-target=\"#QueryExamples\"><span class=\"fa fa-folder-open-o\"></span> <span data-i18n=\"wdqs-app-button-examples\" id=\"examples-label\"></span></button></li><li class=\"dropdown\"><div class=\"btn-group navbar-btn\" id=\"query-builder-dd\"><a target=\"_blank\" href=\"https://query.wikidata.org/querybuilder/\" class=\"btn btn-default dropdown-toggle query-builder-toggle\" id=\"query-builder-toggle\"><span data-i18n=\"wdqs-app-query-builder-name\" id=\"query-builder-label\"></span></a><div class=\"dropdown-menu query-builder\"><strong><p data-i18n=\"wdqs-app-query-builder-dd-title\"></p></strong><p data-i18n=\"wdqs-app-query-builder-dd-copy\"></p><a class=\"query-builder-toggle\" target=\"_blank\" href=\"https://query.wikidata.org/querybuilder/\"><img src=\"./wikibase/queryService/ui/304px_querybuilder_final.gif\"></a></div></div></li><li class=\"dropdown\"><div class=\"btn-group navbar-btn\"><a href=\"https://www.wikidata.org/wiki/Special:MyLanguage/Wikidata:SPARQL_query_service/Wikidata_Query_Help\" target=\"_blank\" class=\"btn btn-default\"><span class=\"glyphicon glyphicon-question-sign\" aria-hidden=\"true\"></span> <span data-i18n=\"wdqs-app-button-help\" id=\"help-label\"></span> </a><button data-toggle=\"dropdown\" class=\"btn btn-default dropdown-toggle\" id=\"help-toggle\"><span class=\"caret\"></span></button><ul class=\"dropdown-menu\"><li><a target=\"_blank\" rel=\"noopener\" href=\"https://www.wikidata.org/wiki/Special:MyLanguage/Wikidata:SPARQL_query_service/Wikidata_Query_Help\" data-i18n=\"wdqs-app-help-portal\"></a></li><li><a target=\"_blank\" rel=\"noopener\" href=\"https://www.mediawiki.org/wiki/Special:MyLanguage/Wikidata_Query_Service/User_Manual\" data-i18n=\"wdqs-app-help-manual\"></a></li><li><a target=\"_blank\" rel=\"noopener\" id=\"examples-link\" href=\"https://www.wikidata.org/wiki/Special:MyLanguage/Wikidata:SPARQL_query_service/queries/examples\" data-i18n=\"wdqs-app-help-examples\"></a></li><li role=\"separator\" class=\"divider\"></li><li><a target=\"_blank\" rel=\"noopener\" href=\"https://www.w3.org/TR/sparql11-query/\">SPARQL</a></li><li><a target=\"_blank\" rel=\"noopener\" href=\"https://www.mediawiki.org/wiki/Special:MyLanguage/Wikibase/Indexing/RDF_Dump_Format\" data-i18n=\"wdqs-app-help-datamodel\"></a></li><li><a target=\"_blank\" rel=\"noopener\" href=\"https://www.mediawiki.org/wiki/Special:MyLanguage/Wikibase/Indexing/RDF_Dump_Format#Full_list_of_prefixes\" data-i18n=\"wdqs-app-help-prefixes\"></a></li><li role=\"separator\" class=\"divider\"></li><li><a target=\"_blank\" rel=\"noopener\" href=\"https://www.wikidata.org/wiki/Special:MyLanguage/Wikidata:Request_a_query\" data-i18n=\"wdqs-app-help-request-query\"></a></li><li><a target=\"_blank\" rel=\"noopener\" href=\"https://www.mediawiki.org/w/index.php?title=Talk:Wikidata_Query_Service&action=edit&section=new\" data-i18n=\"wdqs-app-help-feedback\"></a></li><li><a target=\"_blank\" rel=\"noopener\" id=\"copyright-link\" href=\"https://www.wikidata.org/wiki/Special:MyLanguage/Wikidata:SPARQL_query_service/Copyright\" data-i18n=\"wdqs-app-help-copy\"></a></li></ul></div></li><li class=\"dropdown\"><div class=\"btn-group navbar-btn\"><a href=\"https://www.wikidata.org/wiki/Special:MyLanguage/Wikidata:Tools\" target=\"_blank\" class=\"btn btn-default\"><span class=\"glyphicon glyphicon-cog\" aria-hidden=\"true\"></span> <span data-i18n=\"wdqs-app-button-more-tools\" id=\"tools-label\"></span> </a><button data-toggle=\"dropdown\" class=\"btn btn-default dropdown-toggle\" id=\"tools-toggle\"><span class=\"caret\"></span></button><ul class=\"dropdown-menu\"><li><a target=\"_blank\" rel=\"noopener\" href=\"https://www.wikidata.org/wiki/Special:MyLanguage/Wikidata:Tools/Edit_items\" data-i18n=\"wdqs-app-tools-edit-items\"></a></li><li><a target=\"_blank\" rel=\"noopener\" href=\"https://www.wikidata.org/wiki/Special:MyLanguage/Wikidata:Tools/Query_data\" data-i18n=\"wdqs-app-tools-query-data\"></a></li><li><a target=\"_blank\" rel=\"noopener\" href=\"https://www.wikidata.org/wiki/Special:MyLanguage/Wikidata:Tools/Enhance_user_interface\" data-i18n=\"wdqs-app-tools-enhance-ui\"></a></li><li><a target=\"_blank\" rel=\"noopener\" href=\"https://www.wikidata.org/wiki/Special:MyLanguage/Wikidata:Tools/Visualize_data\" data-i18n=\"wdqs-app-tools-visualize-data\"></a></li><li><a target=\"_blank\" rel=\"noopener\" href=\"https://www.wikidata.org/wiki/Special:MyLanguage/Wikidata:List_of_properties\" data-i18n=\"wdqs-app-tools-list-properties\"></a></li><li><a target=\"_blank\" rel=\"noopener\" href=\"https://www.wikidata.org/wiki/Special:MyLanguage/Wikidata:Tools/Lexicographical_data\" data-i18n=\"wdqs-app-tools-lexicographical-data\"></a></li><li><a target=\"_blank\" rel=\"noopener\" href=\"https://www.wikidata.org/wiki/Special:MyLanguage/Wikidata:Tools/For_programmers\" data-i18n=\"wdqs-app-tools-for-programmers\"></a></li><li role=\"separator\" class=\"divider\"></li><li><a target=\"_blank\" rel=\"noopener\" href=\"https://tools.wmflabs.org/hay/directory/#/search/wikidata\">Wikimedia Toolforge</a></li></ul></div></li></ul><ul class=\"nav navbar-nav navbar-right\" id=\"right-navbar\"><li><a href=\"#\" class=\"uls-trigger\" id=\"language-toggle\" data-toggle=\"tooltip\"></a></li></ul></div></nav><div id=\"query-box\"><form id=\"query-form\" action=\"https://query.wikidata.org/bigdata/namespace/wdq/sparql\"><div class=\"query-main\"><div class=\"toolbar\"><div class=\"toolbar-top\"><div><a href=\"#\" class=\"btn query-helper-trigger\" data-toggle=\"tooltip\" data-placement=\"top\" data-i18n=\"[title]wdqs-app-button-query-helper\"><span class=\"fa fa-info-circle\" aria-hidden=\"true\"></span></a></div><div><a href=\"#\" class=\"btn fullscreen-toggle\" data-toggle=\"tooltip\" data-placement=\"top\" data-i18n=\"[title]wdqs-app-button-fullscreen-title\"><span class=\"fa fa-arrows-alt\" aria-hidden=\"true\"></span></a></div><div class=\"dropdown\"><a href=\"#\" class=\"btn dropdown-toggle\" data-toggle=\"dropdown\" role=\"button\" aria-haspopup=\"true\" aria-expanded=\"false\" data-i18n=\"[title]wdqs-app-button-prefixes\"><span class=\"fa fa-thumb-tack\" aria-hidden=\"true\"></span><span class=\"caret\"></span></a><ul class=\"dropdown-menu\"><li><strong data-i18n=\"wdqs-app-button-prefixes\"></strong></li><li role=\"separator\" class=\"divider\"></li><li><div class=\"namespace-shortcuts\"></div></li><li role=\"separator\" class=\"divider\"></li><li><a class=\"addPrefixes\" data-i18n=\"wdqs-app-editor-addprefixes\"></a></li></ul></div><div><a href=\"#\" class=\"btn\" id=\"format-button\" data-toggle=\"tooltip\" data-placement=\"top\" data-i18n=\"[title]wdqs-app-button-format-title\"><span class=\"fa fa-diamond\" aria-hidden=\"true\"></span></a></div><div><a href=\"#\" class=\"btn\" data-i18n=\"[title]wdqs-app-button-examples\" data-toggle=\"modal\" data-target=\"#QueryExamples\"><span class=\"fa fa-folder-open-o\" aria-hidden=\"true\"></span></a></div><div><a href=\"#\" class=\"btn restore\" id=\"restore-button\" data-toggle=\"tooltip\" data-placement=\"top\" data-i18n=\"[title]wdqs-app-button-restore-title\"><span class=\"fa fa-history\" aria-hidden=\"true\"></span></a></div><div><a href=\"#\" class=\"btn\" id=\"clear-button\" data-toggle=\"tooltip\" data-placement=\"top\" data-i18n=\"[title]wdqs-app-button-clear-title\"><span class=\"fa fa-trash-o\" aria-hidden=\"true\"></span></a></div><div><a href=\"#\" class=\"btn shareQuery shortUrlTrigger query\" target=\"_blank\" data-i18n=\"[title]wdqs-app-shorturl-page-title\" data-toggle=\"popover\"><span class=\"fa fa-link\" aria-hidden=\"true\"></span></a></div></div><div class=\"toolbar-bottom\"><button type=\"submit\" class=\"btn btn-info\" id=\"execute-button\" data-toggle=\"tooltip\" data-placement=\"top\" data-i18n=\"[title]wdqs-app-button-run-title\"><span class=\"fa fa-play\" aria-hidden=\"true\"></span></button></div></div><div class=\"query-helper-and-editor\"><div class=\"query-helper query-helper-hidden\"><div class=\"panel panel-info\"><div class=\"panel-heading\"><strong data-i18n=\"wdqs-app-help-queryhelper\"></strong> <a target=\"_blank\" rel=\"noopener\" id=\"query-helper-help\" href=\"https://www.wikidata.org/wiki/Special:MyLanguage/Wikidata:SPARQL_query_service/Query_Helper\"><span class=\"glyphicon glyphicon-question-sign\"></span></a> <button type=\"button\" class=\"close\" aria-label=\"Close\"><span aria-hidden=\"true\">&times;</span></button></div><div class=\"panel-body\"></div></div></div><div class=\"splitter\"></div><div class=\"query-editor-container\" dir=\"ltr\"><textarea class=\"queryEditor\" name=\"query\" data-i18n=\"[placeholder]wdqs-app-editor-placeholder\" placeholder=\"(Input a SPARQL query or choose a query example)\"></textarea></div></div></div><div class=\"navbar navbar-default query-helper-tag-cloud query-helper-hidden\"></div><div class=\"status navbar navbar-default toolbar\"><div class=\"navbar-right\"><span class=\"dataUpdated\"></span></div></div></form></div></div><noscript><div class=\"row action-bar\" style=\"display: block\"><div class=\"message\"><div class=\"label label-warning\">For interactive query editing, a localized user interface, and other improvements, please enable JavaScript or use a browser that supports it.</div></div></div></noscript><div class=\"row\"><nav class=\"navbar navbar-default result\"><ul class=\"nav navbar-nav navbar-left\"><li><a id=\"display-button\" href=\"#\" data-toggle=\"dropdown\" class=\"dropdown-toggle\" data-placement=\"top\" data-i18n=\"[title]wdqs-app-button-display-title\"><span id=\"display-button-icon\" class=\"glyphicon glyphicon-eye-open\" aria-hidden=\"true\"></span><span id=\"display-button-label\"></span><span class=\"caret\"></span></a><ul id=\"result-browser-menu\" class=\"dropdown-menu\" role=\"menu\"></ul></li><li></li><li><a target=\"_blank\" class=\"help\" rel=\"noopener\" href=\"https://www.wikidata.org/wiki/Special:MyLanguage/Wikidata:SPARQL_query_service/Wikidata_Query_Help/Result_Views\"><span class=\"fa fa-question-circle\"></span></a></li></ul><ul class=\"nav navbar-nav navbar-right\"><li class=\"navbar-text\"><span class=\"query-total\"><span class=\"label label-default\" id=\"response-summary\"></span> </span>&nbsp;</li><li><a class=\"btn\" data-toggle=\"modal\" data-target=\"#CodeExamples\" data-i18n=\"[title]wdqs-app-button-code-title\"><span class=\"fa fa-code\"></span> <span data-i18n=\"wdqs-app-button-code\"></span></a></li><li><a id=\"download-button\" href=\"#\" data-toggle=\"dropdown\" class=\"dropdown-toggle\" data-placement=\"top\" data-i18n=\"[title]wdqs-app-button-download-title\"><span class=\"glyphicon glyphicon-download-alt\" aria-hidden=\"true\"></span><span data-i18n=\"wdqs-app-button-download\"></span><span class=\"caret\"></span></a><ul class=\"dropdown-menu\" role=\"menu\"><li><a id=\"downloadJSON\" href=\"#\"><span class=\"fa fa-file-code-o\" aria-hidden=\"true\"></span> <span data-i18n=\"wdqs-app-result-json\"></span></a></li><li><a id=\"downloadFull-JSON\" href=\"#\"><span class=\"fa fa-file-code-o\" aria-hidden=\"true\"></span> <span data-i18n=\"wdqs-app-result-json-verbose\"></span></a></li><li role=\"separator\" class=\"divider\"></li><li><a id=\"downloadSimple-TSV\" href=\"#\"><span class=\"fa fa-file-excel-o\" aria-hidden=\"true\"></span> <span data-i18n=\"wdqs-app-result-tsv\"></span></a></li><li><a id=\"downloadTSV\" href=\"#\"><span class=\"fa fa-file-excel-o\" aria-hidden=\"true\"></span> <span data-i18n=\"wdqs-app-result-tsv-verbose\"></span></a></li><li role=\"separator\" class=\"divider\"></li><li><a id=\"downloadCSV\" href=\"#\"><span class=\"fa fa-file-excel-o\" aria-hidden=\"true\"></span> <span data-i18n=\"wdqs-app-result-csv\"></span></a></li><li role=\"separator\" class=\"divider\"></li><li><a id=\"downloadHTML\" href=\"#\"><span class=\"fa fa-file-code-o\" aria-hidden=\"true\"></span> <span data-i18n=\"wdqs-app-result-html\"></span></a></li><li role=\"separator\" class=\"divider\"></li><li><a id=\"downloadSVG\" href=\"#\"><span class=\"fa fa-file-image-o\" aria-hidden=\"true\"></span> <span data-i18n=\"wdqs-app-result-svg\"></span></a></li></ul></li><li><a id=\"link-button\" href=\"#\" data-toggle=\"dropdown\" class=\"dropdown-toggle\" aria-haspopup=\"true\" aria-expanded=\"false\" data-placement=\"top\" data-i18n=\"[title]wdqs-app-button-link-title\"><span class=\"glyphicon glyphicon-link\" aria-hidden=\"true\"></span><span data-i18n=\"wdqs-app-button-link\"></span><span class=\"caret\"></span></a><ul class=\"dropdown-menu\"><li><a href=\"#\" class=\"shortUrlTrigger result\" target=\"_blank\" data-i18n=\"[title]wdqs-app-result-shorturl-title\" data-toggle=\"popover\"><span data-i18n=\"wdqs-app-result-shorturl\"></span></a></li><li><a target=\"_blank\" class=\"queryUri\" data-i18n=\"[title]wdqs-app-result-endpoint-title\"><span data-i18n=\"wdqs-app-result-endpoint\"></span></a></li><li><a href=\"#\" class=\"embed result\" target=\"_blank\" data-toggle=\"popover\" data-i18n=\"wdqs-app-result-embed\"></a></li></ul></li></ul></nav></div><div class=\"row action-bar\"><div class=\"message\"></div></div><div class=\"row\"><div id=\"query-result\">Test result</div></div><div class=\"row\"><div id=\"query-error\" class=\"panel-heading\"></div></div><div class=\"row\"><div id=\"empty-query-error\" class=\"text-center\"><p data-i18n=\"wdqs-action-empty-query\"></p><button type=\"button\" class=\"btn navbar-btn btn-default\" id=\"open-example\" data-toggle=\"modal\" data-target=\"#QueryExamples\"><span class=\"fa fa-folder-open-o\"></span> <span data-i18n=\"wdqs-app-button-examples\" id=\"examples-label\"></span></button></div></div><div class=\"row\"><div id=\"loading-spinner\"><i class=\"fa fa-spinner fa-pulse fa-3x fa-fw\"></i> <span class=\"sr-only\">Loading...</span></div></div><div id=\"explorer-dialogs\"><div class=\"explorer-dialog\"><div data-role=\"header\" class=\"modal-header clearfix explorer-header\"><h3 data-role=\"title\" class=\"modal-title pull-left explorer-title\">Explorer</h3><button data-role=\"close\" type=\"button\" class=\"close\" data-dismiss=\"modal\" aria-label=\"Close\"><span aria-hidden=\"true\">&times;</span></button></div><div data-role=\"body\" class=\"explorer-body\"></div></div></div></div><div class=\"modal fade QueryExamples\" id=\"QueryExamples\" tabindex=\"-1\" role=\"dialog\" aria-labelledby=\"QueryExamplesModalLabel\"><div class=\"modal-dialog modal-lg\" role=\"document\"><div class=\"modal-content\"><div class=\"modal-body\"><div class=\"tagCloud\"></div><div class=\"tagFilter\"></div><div class=\"input-group\"><span class=\"input-group-addon\"><span class=\"glyphicon glyphicon-filter\" aria-hidden=\"true\"></span></span> <input type=\"text\" class=\"tableFilter form-control\" placeholder=\"Type to filter\"> <span class=\"input-group-addon\"><span class=\"badge count\"></span></span></div><div class=\"exampleTable\"><table class=\"table\"><tbody class=\"searchable\"></tbody></table></div></div></div></div></div><div class=\"modal\" id=\"keyboardShortcutHelpModal\" tabindex=\"-1\" role=\"dialog\" aria-labelledby=\"keyboardShortcutHelpModalLabel\" aria-hidden=\"true\"><div class=\"modal-dialog\" role=\"document\"><div class=\"modal-content\"><div class=\"modal-header\"><h5 class=\"modal-title\" id=\"keyboardShortcutHelpModalLabel\" data-i18n=\"wdqs-dialog-key-shortcut-title\"></h5></div><div class=\"modal-body\"><table class=\"keyboard-shortcut-help\"><tbody><tr><th scope=\"row\"><kbd><kbd>ctrl</kbd>+<kbd>enter</kbd></kbd></th><td data-i18n=\"wdqs-dialog-key-shortcut-run-query\"></td></tr><tr><th scope=\"row\"><kbd>esc</kbd></th><td data-i18n=\"wdqs-dialog-key-shortcut-esc\"></td></tr><tr><th scope=\"row\"><kbd>?</kbd></th><td data-i18n=\"wdqs-dialog-key-shortcut-show-shortcut-help\"></td></tr><tr><th scope=\"row\"><kbd>i</kbd></th><td data-i18n=\"wdqs-dialog-key-shortcut-focus-textarea\"></td></tr><tr><th scope=\"row\"><kbd>r</kbd></th><td data-i18n=\"wdqs-dialog-key-shortcut-jump-to-result\"></td></tr><tr><th scope=\"row\"><kbd>f</kbd></th><td data-i18n=\"wdqs-dialog-key-shortcut-focus-filter\"></td></tr><tr><th scope=\"row\"><kbd>s</kbd></th><td data-i18n=\"wdqs-dialog-key-shortcut-focus-show\"></td></tr><tr><th scope=\"row\"><kbd>m</kbd></th><td data-i18n=\"wdqs-dialog-key-shortcut-focus-limit\"></td></tr><tr><th scope=\"row\"><kbd>e</kbd></th><td data-i18n=\"wdqs-dialog-key-shortcut-show-example\"></td></tr><tr><th scope=\"row\"><kbd>h</kbd></th><td data-i18n=\"wdqs-dialog-key-shortcut-help-menu\"></td></tr><tr><th scope=\"row\"><kbd>l</kbd></th><td data-i18n=\"wdqs-dialog-key-shortcut-show-language\"></td></tr></tbody></table></div><div class=\"modal-footer\"><button type=\"button\" class=\"btn btn-default\" data-dismiss=\"modal\" data-i18n=\"wdqs-dialog-key-shortcut-close-button\"></button></div></div></div></div><div class=\"modal fade CodeExamples\" id=\"CodeExamples\" tabindex=\"-1\" role=\"dialog\" aria-labelledby=\"CodeExamplesModalLabel\"><div class=\"modal-dialog modal-lg\" role=\"document\"><div class=\"modal-content\"><div class=\"modal-body\"><div><ul class=\"nav nav-tabs\" role=\"tablist\"></ul><div class=\"tab-content\"></div></div></div></div></div></div><script src=\"js/vendor.min.c10b79c9f44faaeeed5e.js\"></script><script src=\"js/wdqs.min.3e953121da5bfd51eb0d.js\"></script></body></html>'\n"
     ]
    },
    {
     "name": "stderr",
     "output_type": "stream",
     "text": [
      "/home/luisv/LCT.Lorraine/Semester2/DataScience/dsvenv/lib/python3.8/site-packages/SPARQLWrapper/Wrapper.py:1215: RuntimeWarning: unknown response content type 'text/html' returning raw response...\n",
      "  warnings.warn(\n"
     ]
    }
   ],
   "source": [
    "sparql = SPARQLWrapper(\"http://query.wikidata.org/#\")\n",
    "sparql.setQuery(\n",
    "    \"\"\"\n",
    "    SELECT DISTINCT ?item ?itemLabel WHERE {\n",
    "    SERVICE wikibase:label { bd:serviceParam wikibase:language \"[AUTO_LANGUAGE]\". }\n",
    "    {\n",
    "    SELECT DISTINCT ?item WHERE {\n",
    "      ?item p:P31 ?statement0.\n",
    "      ?statement0 (ps:P31/(wdt:P279*)) wd:Q7889.\n",
    "    }\n",
    "    LIMIT 100\n",
    "  }\n",
    "}\n",
    "    \"\"\"\n",
    ")\n",
    "sparql.setReturnFormat(JSON)\n",
    "results = sparql.query().convert()\n",
    "\n",
    "print(results)\n",
    "#for result in results[\"results\"][\"bindings\"]:\n",
    "#    print(result[\"label\"][\"value\"])"
   ]
  },
  {
   "cell_type": "code",
   "execution_count": 6,
   "metadata": {},
   "outputs": [
    {
     "name": "stdout",
     "output_type": "stream",
     "text": [
      "dict_keys(['head', 'results'])\n",
      "dict_keys(['bindings'])\n",
      "{'vars': ['item', 'itemLabel']}\n"
     ]
    }
   ],
   "source": [
    "from SPARQLWrapper import SPARQLWrapper, JSON, XML, TURTLE, RDF, CSV\n",
    "\n",
    "endpoint_url = \"https://query.wikidata.org/sparql\"\n",
    "\n",
    "query = \"\"\"SELECT DISTINCT ?item ?itemLabel WHERE {\n",
    "  SERVICE wikibase:label { bd:serviceParam wikibase:language \"[AUTO_LANGUAGE]\". }\n",
    "  {\n",
    "    SELECT DISTINCT ?item WHERE {\n",
    "      ?item p:P31 ?statement0.\n",
    "      ?statement0 (ps:P31/(wdt:P279*)) wd:Q7889.\n",
    "    }\n",
    "  }\n",
    "}\"\"\"\n",
    "\n",
    "\n",
    "def get_results(endpoint_url, query):\n",
    "    user_agent = \"WDQS-example Python/%s.%s\" % (sys.version_info[0], sys.version_info[1])\n",
    "    # TODO adjust user agent; see https://w.wiki/CX6\n",
    "    sparql = SPARQLWrapper(endpoint_url, agent=user_agent)\n",
    "    sparql.setQuery(query)\n",
    "    sparql.setReturnFormat(JSON)\n",
    "    #sparql.setReturnFormat(XML)\n",
    "    return sparql.query().convert()\n",
    "    #sparql.query().convert()\n",
    "\n",
    "\n",
    "results = get_results(endpoint_url, query)\n",
    "results\n",
    "#dir(results)\n",
    "#with open('asdf.rdf', 'w') as file:\n",
    "#  results.serialize(destination=file, format=\"xml\")\n",
    "print(results.keys())\n",
    "print(results[\"results\"].keys())\n",
    "print(results[\"head\"])\n",
    "\n",
    "for result in results[\"results\"][\"bindings\"]:\n",
    "    pass\n",
    "    # print(result['item']['value'], result['itemLabel']['value'])"
   ]
  },
  {
   "cell_type": "code",
   "execution_count": 7,
   "metadata": {},
   "outputs": [
    {
     "data": {
      "text/plain": [
       "52941"
      ]
     },
     "execution_count": 7,
     "metadata": {},
     "output_type": "execute_result"
    }
   ],
   "source": [
    "len(results['results']['bindings'])"
   ]
  },
  {
   "cell_type": "code",
   "execution_count": 8,
   "metadata": {},
   "outputs": [],
   "source": [
    "properties = [\n",
    "    \"P577\", # publication date\n",
    "    \"P407\", # language\n",
    "\n",
    "]"
   ]
  },
  {
   "cell_type": "code",
   "execution_count": 9,
   "metadata": {},
   "outputs": [
    {
     "ename": "NameError",
     "evalue": "name 'wikidata_id_list' is not defined",
     "output_type": "error",
     "traceback": [
      "\u001b[0;31m---------------------------------------------------------------------------\u001b[0m",
      "\u001b[0;31mNameError\u001b[0m                                 Traceback (most recent call last)",
      "\u001b[1;32m/home/luisv/LCT.Lorraine/Semester2/TheSemanticWeb/Project/Code/01_first_tests/test_1.ipynb Cell 9'\u001b[0m in \u001b[0;36m<cell line: 14>\u001b[0;34m()\u001b[0m\n\u001b[1;32m      <a href='vscode-notebook-cell:/home/luisv/LCT.Lorraine/Semester2/TheSemanticWeb/Project/Code/01_first_tests/test_1.ipynb#ch0000008?line=3'>4</a>\u001b[0m     \u001b[39m\"\"\"\u001b[39;00m\n\u001b[1;32m      <a href='vscode-notebook-cell:/home/luisv/LCT.Lorraine/Semester2/TheSemanticWeb/Project/Code/01_first_tests/test_1.ipynb#ch0000008?line=4'>5</a>\u001b[0m \u001b[39m    get the tuples of the properties of this wikidata item\u001b[39;00m\n\u001b[1;32m      <a href='vscode-notebook-cell:/home/luisv/LCT.Lorraine/Semester2/TheSemanticWeb/Project/Code/01_first_tests/test_1.ipynb#ch0000008?line=5'>6</a>\u001b[0m \u001b[39m    but only those properties desired.\u001b[39;00m\n\u001b[1;32m      <a href='vscode-notebook-cell:/home/luisv/LCT.Lorraine/Semester2/TheSemanticWeb/Project/Code/01_first_tests/test_1.ipynb#ch0000008?line=6'>7</a>\u001b[0m \n\u001b[1;32m      <a href='vscode-notebook-cell:/home/luisv/LCT.Lorraine/Semester2/TheSemanticWeb/Project/Code/01_first_tests/test_1.ipynb#ch0000008?line=7'>8</a>\u001b[0m \u001b[39m    Discard those who don't have all the properties\u001b[39;00m\n\u001b[1;32m      <a href='vscode-notebook-cell:/home/luisv/LCT.Lorraine/Semester2/TheSemanticWeb/Project/Code/01_first_tests/test_1.ipynb#ch0000008?line=8'>9</a>\u001b[0m \u001b[39m    \"\"\"\u001b[39;00m\n\u001b[1;32m     <a href='vscode-notebook-cell:/home/luisv/LCT.Lorraine/Semester2/TheSemanticWeb/Project/Code/01_first_tests/test_1.ipynb#ch0000008?line=11'>12</a>\u001b[0m     \u001b[39mreturn\u001b[39;00m [] \u001b[39m#list of tuples. Or maybe save them as a turtle file?\u001b[39;00m\n\u001b[0;32m---> <a href='vscode-notebook-cell:/home/luisv/LCT.Lorraine/Semester2/TheSemanticWeb/Project/Code/01_first_tests/test_1.ipynb#ch0000008?line=13'>14</a>\u001b[0m \u001b[39mfor\u001b[39;00m wikidata_id \u001b[39min\u001b[39;00m wikidata_id_list:\n\u001b[1;32m     <a href='vscode-notebook-cell:/home/luisv/LCT.Lorraine/Semester2/TheSemanticWeb/Project/Code/01_first_tests/test_1.ipynb#ch0000008?line=14'>15</a>\u001b[0m     query_tuples(wikidata_id)\n",
      "\u001b[0;31mNameError\u001b[0m: name 'wikidata_id_list' is not defined"
     ]
    }
   ],
   "source": [
    "def query_tuples(\n",
    "    wikidata_ID # Q123456\n",
    "    ):\n",
    "    \"\"\"\n",
    "    get the tuples of the properties of this wikidata item\n",
    "    but only those properties desired.\n",
    "\n",
    "    Discard those who don't have all the properties\n",
    "    \"\"\"\n",
    "\n",
    "\n",
    "    return [] #list of tuples. Or maybe save them as a turtle file?\n",
    "\n",
    "for wikidata_id in wikidata_id_list:\n",
    "    query_tuples(wikidata_id)\n",
    "\n"
   ]
  },
  {
   "cell_type": "markdown",
   "metadata": {},
   "source": [
    "# Getting games with their names\n",
    "\n",
    "not only their wikidata_id"
   ]
  },
  {
   "cell_type": "code",
   "execution_count": null,
   "metadata": {},
   "outputs": [
    {
     "name": "stdout",
     "output_type": "stream",
     "text": [
      "dict_keys(['head', 'results'])\n",
      "dict_keys(['bindings'])\n",
      "{'vars': ['item', 'itemLabel', 'labelName']}\n",
      "dict_keys(['item', 'labelName'])\n"
     ]
    }
   ],
   "source": [
    "\n",
    "from SPARQLWrapper import SPARQLWrapper, JSON, XML, TURTLE, RDF, CSV\n",
    "\n",
    "endpoint_url = \"https://query.wikidata.org/sparql\"\n",
    "\n",
    "video_game_wiki_id = \"Q7889\"\n",
    "query = \"\"\"\n",
    "SELECT DISTINCT ?item ?itemLabel ?labelName WHERE {\n",
    "      ?item rdfs:label ?labelName.\n",
    "      ?item p:P31 ?statement0.\n",
    "      ?statement0 (ps:P31/(wdt:P279*)) wd:Q7889.\n",
    "      FILTER( langMatches( lang(?labelName), \"EN\") )\n",
    "    }\n",
    "\"\"\"\n",
    "\n",
    "\n",
    "def get_results(endpoint_url, query):\n",
    "    user_agent = \"WDQS-example Python/%s.%s\" % (sys.version_info[0], sys.version_info[1])\n",
    "    # TODO adjust user agent; see https://w.wiki/CX6\n",
    "    sparql = SPARQLWrapper(endpoint_url, agent=user_agent)\n",
    "    sparql.setQuery(query)\n",
    "    sparql.setReturnFormat(JSON)\n",
    "    #sparql.setReturnFormat(XML)\n",
    "    return sparql.query().convert()\n",
    "    #sparql.query().convert()\n",
    "\n",
    "\n",
    "results = get_results(endpoint_url, query)\n",
    "results\n",
    "#dir(results)\n",
    "#with open('asdf.rdf', 'w') as file:\n",
    "#  results.serialize(destination=file, format=\"xml\")\n",
    "print(results.keys())\n",
    "print(results[\"results\"].keys())\n",
    "print(results[\"head\"])\n",
    "print(results[\"results\"][\"bindings\"][0].keys())\n",
    "for result in results[\"results\"][\"bindings\"]:\n",
    "    pass\n",
    "    #print(result['item']['value'], result['itemLabel']['value'], result['itemLabel']['labelName'])"
   ]
  },
  {
   "cell_type": "code",
   "execution_count": null,
   "metadata": {},
   "outputs": [
    {
     "name": "stdout",
     "output_type": "stream",
     "text": [
      "dict_keys(['head', 'results'])\n",
      "dict_keys(['bindings'])\n",
      "{'vars': ['item']}\n",
      "dict_keys(['item'])\n"
     ]
    },
    {
     "ename": "KeyError",
     "evalue": "'itemLabel'",
     "output_type": "error",
     "traceback": [
      "\u001b[0;31m---------------------------------------------------------------------------\u001b[0m",
      "\u001b[0;31mKeyError\u001b[0m                                  Traceback (most recent call last)",
      "\u001b[1;32m/home/luisv/LCT.Lorraine/Semester2/TheSemanticWeb/Project/Code/01_first_tests/test_1.ipynb Cell 11'\u001b[0m in \u001b[0;36m<cell line: 40>\u001b[0;34m()\u001b[0m\n\u001b[1;32m     <a href='vscode-notebook-cell:/home/luisv/LCT.Lorraine/Semester2/TheSemanticWeb/Project/Code/01_first_tests/test_1.ipynb#ch0000019?line=38'>39</a>\u001b[0m \u001b[39mprint\u001b[39m(results[\u001b[39m\"\u001b[39m\u001b[39mresults\u001b[39m\u001b[39m\"\u001b[39m][\u001b[39m\"\u001b[39m\u001b[39mbindings\u001b[39m\u001b[39m\"\u001b[39m][\u001b[39m0\u001b[39m]\u001b[39m.\u001b[39mkeys())\n\u001b[1;32m     <a href='vscode-notebook-cell:/home/luisv/LCT.Lorraine/Semester2/TheSemanticWeb/Project/Code/01_first_tests/test_1.ipynb#ch0000019?line=39'>40</a>\u001b[0m \u001b[39mfor\u001b[39;00m result \u001b[39min\u001b[39;00m results[\u001b[39m\"\u001b[39m\u001b[39mresults\u001b[39m\u001b[39m\"\u001b[39m][\u001b[39m\"\u001b[39m\u001b[39mbindings\u001b[39m\u001b[39m\"\u001b[39m]:\n\u001b[1;32m     <a href='vscode-notebook-cell:/home/luisv/LCT.Lorraine/Semester2/TheSemanticWeb/Project/Code/01_first_tests/test_1.ipynb#ch0000019?line=40'>41</a>\u001b[0m     \u001b[39m#pass\u001b[39;00m\n\u001b[0;32m---> <a href='vscode-notebook-cell:/home/luisv/LCT.Lorraine/Semester2/TheSemanticWeb/Project/Code/01_first_tests/test_1.ipynb#ch0000019?line=41'>42</a>\u001b[0m     \u001b[39mprint\u001b[39m(result[\u001b[39m'\u001b[39m\u001b[39mitem\u001b[39m\u001b[39m'\u001b[39m][\u001b[39m'\u001b[39m\u001b[39mvalue\u001b[39m\u001b[39m'\u001b[39m], result[\u001b[39m'\u001b[39;49m\u001b[39mitemLabel\u001b[39;49m\u001b[39m'\u001b[39;49m][\u001b[39m'\u001b[39m\u001b[39mvalue\u001b[39m\u001b[39m'\u001b[39m], result[\u001b[39m'\u001b[39m\u001b[39mitemLabel\u001b[39m\u001b[39m'\u001b[39m][\u001b[39m'\u001b[39m\u001b[39mlabelName\u001b[39m\u001b[39m'\u001b[39m])\n",
      "\u001b[0;31mKeyError\u001b[0m: 'itemLabel'"
     ]
    }
   ],
   "source": [
    "\n",
    "from SPARQLWrapper import SPARQLWrapper, JSON, XML, TURTLE, RDF, CSV\n",
    "\n",
    "endpoint_url = \"https://query.wikidata.org/sparql\"\n",
    "\n",
    "video_game_wiki_id = \"Q7889\"\n",
    "query = \"\"\"\n",
    "SELECT DISTINCT ?item ?itemLabel ?labelName WHERE {\n",
    "  SERVICE wikibase:label { bd:serviceParam wikibase:language \"[AUTO_LANGUAGE]\". }\n",
    "  {\n",
    "    SELECT DISTINCT ?item WHERE { \n",
    "      ?item rdfs:label ?labelName.\n",
    "      ?item p:P31 ?statement0.\n",
    "      ?statement0 (ps:P31/(wdt:P279*)) wd:Q7889.\n",
    "    }\n",
    "  }\n",
    "}\n",
    "\"\"\"\n",
    "\n",
    "\n",
    "def get_results(endpoint_url, query):\n",
    "    user_agent = \"WDQS-example Python/%s.%s\" % (sys.version_info[0], sys.version_info[1])\n",
    "    # TODO adjust user agent; see https://w.wiki/CX6\n",
    "    sparql = SPARQLWrapper(endpoint_url, agent=user_agent)\n",
    "    sparql.setQuery(query)\n",
    "    sparql.setReturnFormat(JSON)\n",
    "    #sparql.setReturnFormat(XML)\n",
    "    return sparql.query().convert()\n",
    "    #sparql.query().convert()\n",
    "\n",
    "\n",
    "results = get_results(endpoint_url, query)\n",
    "results\n",
    "#dir(results)\n",
    "#with open('asdf.rdf', 'w') as file:\n",
    "#  results.serialize(destination=file, format=\"xml\")\n",
    "print(results.keys())\n",
    "print(results[\"results\"].keys())\n",
    "print(results[\"head\"])\n",
    "print(results[\"results\"][\"bindings\"][0].keys())\n",
    "for result in results[\"results\"][\"bindings\"]:\n",
    "    #pass\n",
    "    print(result['item']['value'], result['itemLabel']['value'], result['itemLabel']['labelName'])"
   ]
  },
  {
   "cell_type": "code",
   "execution_count": 11,
   "metadata": {},
   "outputs": [
    {
     "name": "stdout",
     "output_type": "stream",
     "text": [
      "{'label': {'xml:lang': 'en', 'type': 'literal', 'value': 'Louvre Museum'}}\n",
      "{'label': {'xml:lang': 'en-ca', 'type': 'literal', 'value': 'Musée du Louvre'}}\n",
      "{'label': {'xml:lang': 'en-gb', 'type': 'literal', 'value': 'Musée du Louvre'}}\n"
     ]
    }
   ],
   "source": [
    "# pip install sparqlwrapper\n",
    "# https://rdflib.github.io/sparqlwrapper/\n",
    "\n",
    "import sys\n",
    "from SPARQLWrapper import SPARQLWrapper, JSON\n",
    "\n",
    "endpoint_url = \"https://query.wikidata.org/sparql\"\n",
    "\n",
    "query = \"\"\"SELECT DISTINCT * WHERE {\n",
    "  wd:Q19675 rdfs:label ?label . \n",
    "  FILTER (langMatches( lang(?label), \"EN\" ) )  \n",
    "}\n",
    "\"\"\"\n",
    "\n",
    "\n",
    "def get_results(endpoint_url, query):\n",
    "    user_agent = \"WDQS-example Python/%s.%s\" % (sys.version_info[0], sys.version_info[1])\n",
    "    # TODO adjust user agent; see https://w.wiki/CX6\n",
    "    sparql = SPARQLWrapper(endpoint_url, agent=user_agent)\n",
    "    sparql.setQuery(query)\n",
    "    sparql.setReturnFormat(JSON)\n",
    "    return sparql.query().convert()\n",
    "\n",
    "\n",
    "results = get_results(endpoint_url, query)\n",
    "\n",
    "for result in results[\"results\"][\"bindings\"]:\n",
    "    print(result)\n"
   ]
  },
  {
   "cell_type": "markdown",
   "metadata": {},
   "source": [
    "# Vocabulary for games\n",
    "\n",
    "- title P1476\n",
    "- part of the series P179\n",
    " - series original P1545\n",
    " - follows P155\n",
    " - followed by P156\n",
    "- genre P136\n",
    "- publisher P123\n",
    "- language P407\n",
    "- publication date P577\n",
    "- distributed by P750\n",
    "- awards P166\n",
    "- developer P178\n",
    "- platform P400\n",
    "- game mode P404\n",
    " - multiplayer Q6895044\n",
    " - singleplayer Q208850\n",
    "\n",
    "- age rating\n",
    "    - ESRB P852\n",
    "    - PEGI P908\n"
   ]
  },
  {
   "cell_type": "code",
   "execution_count": null,
   "metadata": {},
   "outputs": [],
   "source": []
  },
  {
   "cell_type": "markdown",
   "metadata": {},
   "source": [
    "# Vocabulary for users"
   ]
  },
  {
   "cell_type": "markdown",
   "metadata": {},
   "source": [
    "\"player, hasName, Shane\"\n",
    "\n",
    "\"Shane , plays, PlantsVSZombies2\" \n",
    "- Recomend games of the same series (e.g. PvZ 3), \n",
    "- games of the same publisher or developer, \n",
    "- same language\n",
    "\n",
    "\"Shane, prefersGenre, RacingGames\" \n",
    "- Recommend games of same genre\n",
    "\n",
    "\"Shane, hasAge, 27\"             \n",
    "- recommend same or bigger age ratings\n",
    "\n",
    "\"Shane, playsInConsole, PlayStation3\"\n",
    "- recommend same console\n"
   ]
  },
  {
   "cell_type": "markdown",
   "metadata": {},
   "source": []
  }
 ],
 "metadata": {
  "interpreter": {
   "hash": "997ed75ad1253b081b4bd25360b6bcbfad76026706cda5a0c094d1371ade530f"
  },
  "kernelspec": {
   "display_name": "Python 3.8.10 ('dsvenv')",
   "language": "python",
   "name": "python3"
  },
  "language_info": {
   "codemirror_mode": {
    "name": "ipython",
    "version": 3
   },
   "file_extension": ".py",
   "mimetype": "text/x-python",
   "name": "python",
   "nbconvert_exporter": "python",
   "pygments_lexer": "ipython3",
   "version": "3.8.10"
  },
  "orig_nbformat": 4
 },
 "nbformat": 4,
 "nbformat_minor": 2
}
