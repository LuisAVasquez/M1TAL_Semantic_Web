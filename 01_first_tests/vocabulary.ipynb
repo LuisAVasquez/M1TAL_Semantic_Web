{
 "cells": [
  {
   "cell_type": "markdown",
   "metadata": {},
   "source": [
    "# Vocabulary for games\n",
    "\n",
    "- title P1476\n",
    "- part of the series P179\n",
    " - series original P1545\n",
    " - follows P155\n",
    " - followed by P156\n",
    "- genre P136\n",
    "- publisher P123\n",
    "- language P407\n",
    "- publication date P577\n",
    "- distributed by P750\n",
    "- awards P166\n",
    "- developer P178\n",
    "- platform P400\n",
    "- game mode P404\n",
    " - multiplayer Q6895044\n",
    " - singleplayer Q208850\n",
    "\n",
    "- age rating\n",
    "    - ESRB P852\n",
    "    - PEGI P908\n"
   ]
  },
  {
   "cell_type": "markdown",
   "metadata": {},
   "source": [
    "# Vocabulary for users\n",
    "\n",
    "\"playerID, hasName, Shane\"\n",
    "\n",
    "\"Shane , plays, PlantsVSZombies2\" \n",
    "- Recomend games of the same series (e.g. PvZ 3), \n",
    "- games of the same publisher or developer, \n",
    "- same language\n",
    "\n",
    "\"Shane, prefersGenre, RacingGames\" \n",
    "- Recommend games of same genre\n",
    "\n",
    "\"Shane, hasAge, 27\"             \n",
    "- recommend same or bigger age ratings\n",
    "\n",
    "\"Shane, playsInConsole, PlayStation3\"\n",
    "- recommend same console\n"
   ]
  },
  {
   "cell_type": "markdown",
   "metadata": {},
   "source": []
  }
 ],
 "metadata": {
  "language_info": {
   "name": "python"
  },
  "orig_nbformat": 4
 },
 "nbformat": 4,
 "nbformat_minor": 2
}
