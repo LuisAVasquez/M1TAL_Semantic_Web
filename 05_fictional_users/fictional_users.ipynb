{
 "cells": [
  {
   "cell_type": "code",
   "execution_count": 3,
   "metadata": {},
   "outputs": [],
   "source": [
    "import random\n",
    "\n",
    "random.seed(841) # credits to Michael\n",
    "\n"
   ]
  },
  {
   "cell_type": "code",
   "execution_count": 5,
   "metadata": {},
   "outputs": [],
   "source": [
    "user_properties = [\n",
    "    #\"swproj:userName\",\n",
    "    \"swproj:hatesGame\",\n",
    "    \"swproj:likesGame\",\n",
    "    \"swproj:hasConsole\",\n",
    "    \"swproj:hasAge\",\n",
    "    \"swproj:likesGenre\",\n",
    "]"
   ]
  },
  {
   "cell_type": "code",
   "execution_count": 49,
   "metadata": {},
   "outputs": [],
   "source": [
    "\n",
    "from datetime import *\n",
    "import os\n",
    "\n",
    "\n",
    "def get_hour_minute_second_string():\n",
    "    now = datetime.now()\n",
    "    time = now.strftime(\"%H%M%S%M\") + str(now.microsecond)\n",
    "    time = \"SW\"+str(time)\n",
    "    return time"
   ]
  },
  {
   "cell_type": "code",
   "execution_count": 50,
   "metadata": {},
   "outputs": [],
   "source": [
    "import json\n",
    "dictionaries_dir = \"/home/luisv/LCT.Lorraine/Semester2/TheSemanticWeb/Project/Code/03_parsing_labels/dictionaries\"\n",
    "dictionaries_files = [\"distributor\", \"game\", \"gamemode\", \"genre\", \"input_method\", \"pegi\", \"platform\", \"properties\"]\n",
    "dictionaries = {}\n",
    "\n",
    "for filename in dictionaries_files:\n",
    "    with open(os.path.join(dictionaries_dir, filename + \".json\"), 'r') as file:\n",
    "        dictionaries[filename] = json.load(file)"
   ]
  },
  {
   "cell_type": "code",
   "execution_count": 51,
   "metadata": {},
   "outputs": [
    {
     "data": {
      "text/plain": [
       "{'id': 'SW17431743386483',\n",
       " 'swproj:hatesGame': ['wd:Q672049',\n",
       "  'wd:Q400488',\n",
       "  'wd:Q240143',\n",
       "  'wd:Q578147',\n",
       "  'wd:Q219119',\n",
       "  'wd:Q24300',\n",
       "  'wd:Q672303',\n",
       "  'wd:Q370055',\n",
       "  'wd:Q590516',\n",
       "  'wd:Q601050'],\n",
       " 'swproj:likesGame': ['wd:Q575505',\n",
       "  'wd:Q677274',\n",
       "  'wd:Q684904',\n",
       "  'wd:Q483131',\n",
       "  'wd:Q680785',\n",
       "  'wd:Q221164',\n",
       "  'wd:Q629626',\n",
       "  'wd:Q567250',\n",
       "  'wd:Q207986',\n",
       "  'wd:Q254851'],\n",
       " 'swproj:hasConsole': ['wd:Q184198', 'wd:Q193321', 'wd:Q646795'],\n",
       " 'swproj:hasAge': 26,\n",
       " 'swproj:likesGenre': ['wd:Q1137896', 'wd:Q1999690', 'wd:Q828322']}"
      ]
     },
     "execution_count": 51,
     "metadata": {},
     "output_type": "execute_result"
    }
   ],
   "source": [
    "property_prefix = \"swproj:\"\n",
    "\n",
    "def create_random_user():\n",
    "    id = get_hour_minute_second_string()\n",
    "    loves_Games = random.sample(dictionaries[\"game\"].keys(), 10)\n",
    "    hates_Games = random.sample(dictionaries[\"game\"].keys(), 10)\n",
    "    consoles = random.sample(dictionaries[\"platform\"].keys(), 3)\n",
    "    age = random.choice(range(2,30))\n",
    "    genres = random.sample(dictionaries[\"genre\"].keys(), 3)\n",
    "\n",
    "    dictionary = {}\n",
    "    dictionary[\"id\"] = id\n",
    "    dictionary[\"swproj:hatesGame\"] = hates_Games\n",
    "    dictionary[\"swproj:likesGame\"] = loves_Games\n",
    "    dictionary[\"swproj:hasConsole\"] = consoles\n",
    "    dictionary[\"swproj:hasAge\"] = age\n",
    "    dictionary[\"swproj:likesGenre\"] = genres\n",
    "\n",
    "    return dictionary\n",
    "\n",
    "\n",
    "create_random_user()\n",
    "\n"
   ]
  },
  {
   "cell_type": "code",
   "execution_count": 52,
   "metadata": {},
   "outputs": [],
   "source": [
    "def list_to_triple(triple_list ):\n",
    "    \n",
    "    triple_string = \" \".join(triple_list)\n",
    "    triple_string = triple_string + \" .\"\n",
    "    return triple_string"
   ]
  },
  {
   "cell_type": "code",
   "execution_count": 55,
   "metadata": {},
   "outputs": [],
   "source": [
    "def dict_to_triples(dictionary):\n",
    "    id = dictionary[\"id\"]\n",
    "    hates_Games = dictionary[\"swproj:hatesGame\"] \n",
    "    loves_Games = dictionary[\"swproj:likesGame\"] \n",
    "    consoles = dictionary[\"swproj:hasConsole\"] \n",
    "    age = dictionary[\"swproj:hasAge\"] \n",
    "    age = '\"' + str(age) + '\"'\n",
    "    genres = dictionary[\"swproj:likesGenre\"]\n",
    "\n",
    "    all_triples = []\n",
    "    all_triples.extend(\n",
    "        [[ id, \"swproj:hatesGame\", game ] for game in hates_Games]\n",
    "    )\n",
    "    all_triples.extend(\n",
    "        [[ id, \"swproj:likesGame\", game ] for game in loves_Games]\n",
    "    )\n",
    "    all_triples.extend(\n",
    "        [[ id, \"swproj:hasConsole\", console ] for console in consoles]\n",
    "    )\n",
    "    all_triples.extend(\n",
    "        [[id, \"swproj:hasAge\", age]]\n",
    "    )\n",
    "    all_triples.extend(\n",
    "        [[id, \"swproj:likesGenre\", genre] for genre in genres]\n",
    "    )\n",
    "    all_triples = list(map(list_to_triple, all_triples))\n",
    "    \n",
    "    return all_triples\n",
    "\n",
    "\n",
    "    "
   ]
  },
  {
   "cell_type": "code",
   "execution_count": 56,
   "metadata": {},
   "outputs": [
    {
     "data": {
      "text/plain": [
       "['SW17443144402059 swproj:hatesGame wd:Q665733 .',\n",
       " 'SW17443144402059 swproj:hatesGame wd:Q507396 .',\n",
       " 'SW17443144402059 swproj:hatesGame wd:Q55313 .',\n",
       " 'SW17443144402059 swproj:hatesGame wd:Q74683 .',\n",
       " 'SW17443144402059 swproj:hatesGame wd:Q220960 .',\n",
       " 'SW17443144402059 swproj:hatesGame wd:Q571299 .',\n",
       " 'SW17443144402059 swproj:hatesGame wd:Q625305 .',\n",
       " 'SW17443144402059 swproj:hatesGame wd:Q18951 .',\n",
       " 'SW17443144402059 swproj:hatesGame wd:Q605842 .',\n",
       " 'SW17443144402059 swproj:hatesGame wd:Q400488 .',\n",
       " 'SW17443144402059 swproj:likesGame wd:Q471803 .',\n",
       " 'SW17443144402059 swproj:likesGame wd:Q526700 .',\n",
       " 'SW17443144402059 swproj:likesGame wd:Q55315 .',\n",
       " 'SW17443144402059 swproj:likesGame wd:Q634893 .',\n",
       " 'SW17443144402059 swproj:likesGame wd:Q76868 .',\n",
       " 'SW17443144402059 swproj:likesGame wd:Q220960 .',\n",
       " 'SW17443144402059 swproj:likesGame wd:Q226805 .',\n",
       " 'SW17443144402059 swproj:likesGame wd:Q112912 .',\n",
       " 'SW17443144402059 swproj:likesGame wd:Q323862 .',\n",
       " 'SW17443144402059 swproj:likesGame wd:Q583301 .',\n",
       " 'SW17443144402059 swproj:hasConsole wd:Q1057377 .',\n",
       " 'SW17443144402059 swproj:hasConsole wd:Q43627 .',\n",
       " 'SW17443144402059 swproj:hasConsole wd:Q1406 .',\n",
       " 'SW17443144402059 swproj:hasAge \"24\" .',\n",
       " 'SW17443144402059 swproj:likesGenre wd:Q4451239 .',\n",
       " 'SW17443144402059 swproj:likesGenre wd:Q270948 .',\n",
       " 'SW17443144402059 swproj:likesGenre wd:Q828322 .']"
      ]
     },
     "execution_count": 56,
     "metadata": {},
     "output_type": "execute_result"
    }
   ],
   "source": [
    "user_dictionary = create_random_user()\n",
    "user_triples = dict_to_triples(user_dictionary)\n",
    "user_triples"
   ]
  },
  {
   "cell_type": "markdown",
   "metadata": {},
   "source": []
  },
  {
   "cell_type": "code",
   "execution_count": 66,
   "metadata": {},
   "outputs": [],
   "source": [
    "fictional_user_data = []\n",
    "for i in range(80):\n",
    "    user_dictionary = create_random_user()\n",
    "    user_triples = dict_to_triples(user_dictionary)\n",
    "    \n",
    "    fictional_user_data.extend(user_triples)\n",
    "\n",
    "fictional_user_data = \"\\n\".join(fictional_user_data)"
   ]
  },
  {
   "cell_type": "markdown",
   "metadata": {},
   "source": [
    "# saving to turtle file"
   ]
  },
  {
   "cell_type": "code",
   "execution_count": 67,
   "metadata": {},
   "outputs": [],
   "source": [
    "with open(\"fictional_users.ttl\", 'w') as file:\n",
    "    \n",
    "    file.write(\"@prefix swproj: <https://www.example.org/swproj/> .\"+ \"\\n\")\n",
    "    file.write(\"@prefix wd: <http://www.wikidata.org/entity/> .\"+ \"\\n\")\n",
    "    file.write(\"\\n\")\n",
    "    file.write(fictional_user_data)\n",
    "    \n",
    "    #file.writelines([\"@prefix swproj: <https://www.example.org/swproj/> .\",\n",
    "    #        \"@prefix wd: <http://www.wikidata.org/entity/> .\"])\n",
    "    \n",
    "    "
   ]
  },
  {
   "cell_type": "code",
   "execution_count": null,
   "metadata": {},
   "outputs": [],
   "source": []
  }
 ],
 "metadata": {
  "interpreter": {
   "hash": "997ed75ad1253b081b4bd25360b6bcbfad76026706cda5a0c094d1371ade530f"
  },
  "kernelspec": {
   "display_name": "Python 3.8.10 ('dsvenv')",
   "language": "python",
   "name": "python3"
  },
  "language_info": {
   "codemirror_mode": {
    "name": "ipython",
    "version": 3
   },
   "file_extension": ".py",
   "mimetype": "text/x-python",
   "name": "python",
   "nbconvert_exporter": "python",
   "pygments_lexer": "ipython3",
   "version": "3.8.10"
  },
  "orig_nbformat": 4
 },
 "nbformat": 4,
 "nbformat_minor": 2
}
